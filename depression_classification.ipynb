{
  "nbformat": 4,
  "nbformat_minor": 0,
  "metadata": {
    "colab": {
      "provenance": [],
      "gpuType": "T4"
    },
    "kernelspec": {
      "name": "python3",
      "display_name": "Python 3"
    },
    "language_info": {
      "name": "python"
    },
    "accelerator": "GPU"
  },
  "cells": [
    {
      "cell_type": "code",
      "execution_count": 2,
      "metadata": {
        "id": "iTTrxLWprJbP"
      },
      "outputs": [],
      "source": [
        "import tensorflow as tf\n",
        "from tensorflow.keras import layers, optimizers\n",
        "import pandas as pd\n",
        "from sklearn.model_selection import train_test_split\n",
        "import re"
      ]
    },
    {
      "cell_type": "code",
      "source": [
        "\n",
        "file_paths = ['data1.csv', 'data2.csv', 'data3.csv']\n",
        "\n",
        "\n",
        "# Initialize empty lists to store data from each dataset\n",
        "all_X_train, all_y_train = [], []\n",
        "\n",
        "# Load and process each dataset\n",
        "for file_path in file_paths:\n",
        "    # Load the dataset\n",
        "    try:\n",
        "        data = pd.read_csv(file_path)\n",
        "                # Preprocess the text data\n",
        "        data['text'] = data['text'].str.lower()\n",
        "        data['text'] = data['text'].replace('[^a-zA-Z0-9\\s]', '', regex=True)\n",
        "        data['text'] = data['text'].apply(lambda x: re.sub(r'http\\S+', '', x))\n",
        "\n",
        "        # Extract text and labels\n",
        "        X = data['text'].values\n",
        "        y = data['label'].values\n",
        "\n",
        "        # Split the dataset into training and testing sets\n",
        "        X_train, _, y_train, _ = train_test_split(X, y, test_size=0.2, random_state=42)\n",
        "\n",
        "        # Append the training data to the lists\n",
        "        all_X_train.append(X_train)\n",
        "        all_y_train.append(y_train)\n",
        "    except Exception as e:\n",
        "        print(f\"Error loading dataset {file_path}: {e}\")\n",
        "\n"
      ],
      "metadata": {
        "id": "oxvmodY_zhqC"
      },
      "execution_count": 5,
      "outputs": []
    },
    {
      "cell_type": "code",
      "source": [
        "# Check if enough datasets were loaded\n",
        "if len(all_X_train) >= 3 and len(all_y_train) >= 3:\n",
        "    # Convert the lists to NumPy arrays or TensorFlow datasets as needed\n",
        "    X1_train, y1_train = all_X_train[0], all_y_train[0]\n",
        "    X2_train, y2_train = all_X_train[1], all_y_train[1]\n",
        "    X3_train, y3_train = all_X_train[2], all_y_train[2]"
      ],
      "metadata": {
        "id": "RP9ObJil0JDR"
      },
      "execution_count": 6,
      "outputs": []
    },
    {
      "cell_type": "code",
      "source": [
        "    # Example: Convert to TensorFlow datasets if needed\n",
        "    train_dataset1 = tf.data.Dataset.from_tensor_slices((X1_train, y1_train))\n",
        "    train_dataset2 = tf.data.Dataset.from_tensor_slices((X2_train, y2_train))\n",
        "    train_dataset3 = tf.data.Dataset.from_tensor_slices((X3_train, y3_train))\n"
      ],
      "metadata": {
        "id": "PEng_mZE0kw0"
      },
      "execution_count": 7,
      "outputs": []
    },
    {
      "cell_type": "code",
      "source": [],
      "metadata": {
        "id": "gUwoRUs90nXN"
      },
      "execution_count": 7,
      "outputs": []
    },
    {
      "cell_type": "markdown",
      "source": [
        "#gloabal model\n"
      ],
      "metadata": {
        "id": "phUpPzOm18Jl"
      }
    },
    {
      "cell_type": "code",
      "source": [
        "\n",
        "    # Define model parameters\n",
        "    vocab_size = 10000  # adjust as needed based on your data\n",
        "    embedding_dim = 50  # adjust as needed based on your data\n",
        "    max_length = 100  # adjust as needed based on your data"
      ],
      "metadata": {
        "id": "Z-X7mA-62Qot"
      },
      "execution_count": 8,
      "outputs": []
    },
    {
      "cell_type": "code",
      "source": [
        "\n",
        "# Define a simple text classification model\n",
        "def create_text_model():\n",
        "    model = tf.keras.Sequential([\n",
        "        layers.Embedding(input_dim=vocab_size, output_dim=embedding_dim, input_length=max_length),\n",
        "        layers.Flatten(),\n",
        "        layers.Dense(128, activation='relu'),\n",
        "        layers.Dense(1, activation='sigmoid')  # Binary classification for depression (0 or 1)\n",
        "    ])\n",
        "    model.compile(optimizer='adam', loss='binary_crossentropy', metrics=['accuracy'])\n",
        "    return model"
      ],
      "metadata": {
        "id": "9z_JfUbs0qUh"
      },
      "execution_count": 9,
      "outputs": []
    },
    {
      "cell_type": "code",
      "source": [
        "# Initialize a global text model on the central server\n",
        "global_text_model = create_text_model()"
      ],
      "metadata": {
        "id": "BCDt_cVm0_-J"
      },
      "execution_count": 10,
      "outputs": []
    },
    {
      "cell_type": "code",
      "source": [
        "# Tokenize and pad the text data\n",
        "tokenizer = tf.keras.preprocessing.text.Tokenizer(num_words=vocab_size, oov_token=\"<OOV>\")\n",
        "tokenizer.fit_on_texts(X_train)\n",
        "\n",
        "X1_train_sequences = tokenizer.texts_to_sequences(X1_train)\n",
        "X1_train_padded = tf.keras.preprocessing.sequence.pad_sequences(X1_train_sequences, maxlen=max_length)\n",
        "\n",
        "X2_train_sequences = tokenizer.texts_to_sequences(X2_train)\n",
        "X2_train_padded = tf.keras.preprocessing.sequence.pad_sequences(X2_train_sequences, maxlen=max_length)\n",
        "\n",
        "X3_train_sequences = tokenizer.texts_to_sequences(X3_train)\n",
        "X3_train_padded = tf.keras.preprocessing.sequence.pad_sequences(X3_train_sequences, maxlen=max_length)"
      ],
      "metadata": {
        "id": "BZxru5105H1G"
      },
      "execution_count": 11,
      "outputs": []
    },
    {
      "cell_type": "code",
      "source": [
        "\n",
        "# Simulate local datasets on three clients\n",
        "client1_data = (X1_train_padded, y1_train)  # Replace with your actual data\n",
        "client2_data = (X2_train_padded, y2_train)  # Replace with your actual data\n",
        "client3_data = (X3_train_padded, y3_train)  # Replace with your actual data\n",
        "\n"
      ],
      "metadata": {
        "id": "DqbIIn3K3Ndb"
      },
      "execution_count": 12,
      "outputs": []
    },
    {
      "cell_type": "markdown",
      "source": [
        "#model training"
      ],
      "metadata": {
        "id": "7YksGqQvHRa1"
      }
    },
    {
      "cell_type": "code",
      "source": [
        "import matplotlib.pyplot as plt\n",
        "\n",
        "# ...\n",
        "\n",
        "# Lists to store training accuracies for each client\n",
        "train_acc1_list, train_acc2_list, train_acc3_list = [], [], []\n",
        "\n",
        "# Federated Learning Iterations\n",
        "num_iterations = 5\n",
        "\n",
        "for iteration in range(num_iterations):\n",
        "    # Create local text models for each client and set their weights to match the global model\n",
        "    client1_text_model = create_text_model()\n",
        "    client1_text_model.set_weights(global_text_model.get_weights())\n",
        "\n",
        "    client2_text_model = create_text_model()\n",
        "    client2_text_model.set_weights(global_text_model.get_weights())\n",
        "\n",
        "    client3_text_model = create_text_model()\n",
        "    client3_text_model.set_weights(global_text_model.get_weights())\n",
        "\n",
        "    # Compile local models\n",
        "    client1_text_model.compile(optimizer='adam', loss='binary_crossentropy', metrics=['accuracy'])\n",
        "    client2_text_model.compile(optimizer='adam', loss='binary_crossentropy', metrics=['accuracy'])\n",
        "    client3_text_model.compile(optimizer='adam', loss='binary_crossentropy', metrics=['accuracy'])\n",
        "\n",
        "    # Train the local text models on each client's data\n",
        "    history1 = client1_text_model.fit(*client1_data, epochs=5, verbose=0)\n",
        "    history2 = client2_text_model.fit(*client2_data, epochs=5, verbose=0)\n",
        "    history3 = client3_text_model.fit(*client3_data, epochs=5, verbose=0)\n",
        "\n",
        "    # Access and print training accuracy from the history object\n",
        "    train_acc1 = history1.history['accuracy'][-1]\n",
        "    train_acc2 = history2.history['accuracy'][-1]\n",
        "    train_acc3 = history3.history['accuracy'][-1]\n",
        "\n",
        "    # Append training accuracies to the lists\n",
        "    train_acc1_list.append(train_acc1)\n",
        "    train_acc2_list.append(train_acc2)\n",
        "    train_acc3_list.append(train_acc3)\n",
        "\n",
        "    print(f\"Training Accuracy - Client 1: {train_acc1}\")\n",
        "    print(f\"Training Accuracy - Client 2: {train_acc2}\")\n",
        "    print(f\"Training Accuracy - Client 3: {train_acc3}\")\n",
        "\n",
        "    # Update the global text model using the averaged weights\n",
        "    averaged_text_weights = [\n",
        "        (w1 + w2 + w3) / 3 for w1, w2, w3 in zip(\n",
        "            client1_text_model.get_weights(),\n",
        "            client2_text_model.get_weights(),\n",
        "            client3_text_model.get_weights()\n",
        "        )\n",
        "    ]\n",
        "    global_text_model.set_weights(averaged_text_weights)\n",
        "\n",
        "# Plotting the training accuracy over iterations\n",
        "plt.plot(range(1, num_iterations + 1), train_acc1_list, label='Client 1')\n",
        "plt.plot(range(1, num_iterations + 1), train_acc2_list, label='Client 2')\n",
        "plt.plot(range(1, num_iterations + 1), train_acc3_list, label='Client 3')\n",
        "plt.xlabel('Iteration')\n",
        "plt.ylabel('Training Accuracy')\n",
        "plt.legend()\n",
        "plt.show()\n"
      ],
      "metadata": {
        "colab": {
          "base_uri": "https://localhost:8080/",
          "height": 709
        },
        "id": "gJgOxfis8_ZK",
        "outputId": "de321d40-e7fb-41dd-d8aa-b81e3d6b15cd"
      },
      "execution_count": 13,
      "outputs": [
        {
          "output_type": "stream",
          "name": "stdout",
          "text": [
            "Training Accuracy - Client 1: 0.8927878141403198\n",
            "Training Accuracy - Client 2: 0.9445917010307312\n",
            "Training Accuracy - Client 3: 0.8882534503936768\n",
            "Training Accuracy - Client 1: 0.9658796787261963\n",
            "Training Accuracy - Client 2: 0.9731101989746094\n",
            "Training Accuracy - Client 3: 0.9259639978408813\n",
            "Training Accuracy - Client 1: 0.9755821228027344\n",
            "Training Accuracy - Client 2: 0.9798486232757568\n",
            "Training Accuracy - Client 3: 0.9508511424064636\n",
            "Training Accuracy - Client 1: 0.9770374894142151\n",
            "Training Accuracy - Client 2: 0.9862676858901978\n",
            "Training Accuracy - Client 3: 0.9693043231964111\n",
            "Training Accuracy - Client 1: 0.9810802340507507\n",
            "Training Accuracy - Client 2: 0.9895570278167725\n",
            "Training Accuracy - Client 3: 0.9800276756286621\n"
          ]
        },
        {
          "output_type": "display_data",
          "data": {
            "text/plain": [
              "<Figure size 640x480 with 1 Axes>"
            ],
            "image/png": "[encoded data removed]"
          },
          "metadata": {}
        }
      ]
    },
    {
      "cell_type": "code",
      "source": [
        "# Save the global model\n",
        "global_text_model.save('global_text_model.h5')\n"
      ],
      "metadata": {
        "id": "SP5DLi9JX2UJ"
      },
      "execution_count": 16,
      "outputs": []
    },
    {
      "cell_type": "markdown",
      "source": [
        "#testing the global on client dataset"
      ],
      "metadata": {
        "id": "7uwJsKwg-lET"
      }
    },
    {
      "cell_type": "code",
      "source": [
        "from tensorflow.keras.models import load_model\n",
        "from tensorflow.keras.preprocessing.text import Tokenizer\n",
        "from tensorflow.keras.preprocessing.sequence import pad_sequences\n",
        "from sklearn.metrics import accuracy_score, confusion_matrix, classification_report\n",
        "\n",
        "import pandas as pd\n",
        "\n",
        "# Replace \"path_to_your_model.h5\" with the actual path to your saved model file\n",
        "model_path = \"global_text_model.h5\"\n",
        "\n",
        "# Load the saved model\n",
        "loaded_model = load_model(model_path)\n",
        "\n",
        "# Load your specific dataset\n",
        "# Replace \"path_to_your_dataset.csv\" with the actual path to your dataset file\n",
        "dataset_path = \"data1.csv\"\n",
        "df_specific = pd.read_csv(dataset_path)\n",
        "\n",
        "# Preprocess the text data in the same way as during training\n",
        "df_specific['text'] = df_specific['text'].str.lower()\n",
        "df_specific['text'] = df_specific['text'].replace('[^a-zA-Z0-9\\s]', '', regex=True)\n",
        "\n",
        "# Tokenize and pad the input text for predictions\n",
        "X_specific = df_specific['text'].values\n",
        "X_specific_sequences = tokenizer.texts_to_sequences(X_specific)\n",
        "X_specific_padded = pad_sequences(X_specific_sequences, maxlen=100, padding='post', truncating='post')\n",
        "\n",
        "# Make predictions on the specific dataset\n",
        "predictions_specific = loaded_model.predict(X_specific_padded)\n",
        "\n",
        "# Convert the predictions to binary values (0 or 1) based on a threshold (e.g., 0.5)\n",
        "binary_predictions_specific = (predictions_specific > 0.5).astype(int)\n",
        "\n",
        "\n",
        "# Replace \"y_specific\" with the actual labels column in your dataset\n",
        "y_specific = df_specific['label'].values\n",
        "\n",
        "# Evaluate the model performance on the specific dataset\n",
        "accuracy_specific = accuracy_score(y_specific, binary_predictions_specific)\n",
        "conf_matrix_specific = confusion_matrix(y_specific, binary_predictions_specific)\n",
        "classification_rep_specific = classification_report(y_specific, binary_predictions_specific)\n",
        "\n",
        "print(f\"Specific Dataset Accuracy: {accuracy_specific}\")\n",
        "print(\"Confusion Matrix:\")\n",
        "print(conf_matrix_specific)\n",
        "print(\"Classification Report:\")\n",
        "print(classification_rep_specific)\n"
      ],
      "metadata": {
        "colab": {
          "base_uri": "https://localhost:8080/"
        },
        "id": "3-UvNCxqABvI",
        "outputId": "f99a8451-4326-4246-cae7-b631eec59562"
      },
      "execution_count": 20,
      "outputs": [
        {
          "output_type": "stream",
          "name": "stdout",
          "text": [
            "242/242 [==============================] - 2s 6ms/step\n",
            "Specific Dataset Accuracy: 0.7490297542043984\n",
            "Confusion Matrix:\n",
            "[[3859   41]\n",
            " [1899 1931]]\n",
            "Classification Report:\n",
            "              precision    recall  f1-score   support\n",
            "\n",
            "           0       0.67      0.99      0.80      3900\n",
            "           1       0.98      0.50      0.67      3830\n",
            "\n",
            "    accuracy                           0.75      7730\n",
            "   macro avg       0.82      0.75      0.73      7730\n",
            "weighted avg       0.82      0.75      0.73      7730\n",
            "\n"
          ]
        }
      ]
    },
    {
      "cell_type": "markdown",
      "source": [
        "# testing on a given string"
      ],
      "metadata": {
        "id": "wzhgaNaKGPqv"
      }
    },
    {
      "cell_type": "code",
      "source": [
        "from tensorflow.keras.models import load_model\n",
        "from tensorflow.keras.preprocessing.text import Tokenizer\n",
        "from tensorflow.keras.preprocessing.sequence import pad_sequences\n",
        "import re\n",
        "\n",
        "# Replace \"path_to_your_model.h5\" with the actual path to your saved model file\n",
        "model_path = \"global_text_model.h5\"\n",
        "\n",
        "# Load the saved model\n",
        "loaded_model = load_model(model_path)\n",
        "\n",
        "# Assuming you already have the tokenizer loaded from previous code\n",
        "# If not, you should load it or re-create it based on your training tokenizer\n",
        "\n",
        "# Function to test the model on a specific text example\n",
        "def test_model_on_text(text_example, true_label, tokenizer, max_sequence_length=100):\n",
        "    # Preprocess the text using regular expressions\n",
        "    text_example = text_example.lower()\n",
        "    text_example = re.sub(r'[^a-zA-Z0-9\\s]', '', text_example)\n",
        "\n",
        "    # Tokenize and pad the input text\n",
        "    text_sequences = tokenizer.texts_to_sequences([text_example])\n",
        "    text_padded = pad_sequences(text_sequences, maxlen=max_sequence_length, padding='post', truncating='post')\n",
        "\n",
        "    # Make predictions\n",
        "    prediction = loaded_model.predict(text_padded)\n",
        "\n",
        "    # Convert the prediction to a binary value (0 or 1) based on a threshold (e.g., 0.5)\n",
        "    binary_prediction = (prediction > 0.5).astype(int)\n",
        "\n",
        "    # Calculate accuracy\n",
        "    accuracy = 1 if binary_prediction == true_label else 0\n",
        "\n",
        "    return binary_prediction, accuracy\n",
        "\n",
        "# Test the model on a specific text example with the true label\n",
        "specific_text_example = \"me think think lost matter point never felt want much.\"\n",
        "true_label = 0\n",
        "\n",
        "\n",
        "result, accuracy = test_model_on_text(specific_text_example, true_label, tokenizer)\n",
        "\n",
        "print(f\"Prediction for '{specific_text_example}': {result}\")\n",
        "\n"
      ],
      "metadata": {
        "colab": {
          "base_uri": "https://localhost:8080/"
        },
        "id": "Ul78TY6jBWy9",
        "outputId": "7ee1089f-8cde-44a5-a699-9df509efcbf4"
      },
      "execution_count": 19,
      "outputs": [
        {
          "output_type": "stream",
          "name": "stdout",
          "text": [
            "1/1 [==============================] - 0s 78ms/step\n",
            "Prediction for 'me think think lost matter point never felt want much.': [[0]]\n"
          ]
        }
      ]
    },
    {
      "cell_type": "code",
      "source": [],
      "metadata": {
        "id": "3xJTLLhSEH1m"
      },
      "execution_count": 63,
      "outputs": []
    }
  ]
}